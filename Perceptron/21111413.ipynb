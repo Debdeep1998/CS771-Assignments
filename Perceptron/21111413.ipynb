{
 "cells": [
  {
   "cell_type": "code",
   "execution_count": 724,
   "id": "efd41ca2",
   "metadata": {},
   "outputs": [],
   "source": [
    "# Basics\n",
    "import pandas as pd\n",
    "import numpy as np\n",
    "\n",
    "# Visualization\n",
    "import matplotlib.pyplot as plt\n",
    "import seaborn as sns"
   ]
  },
  {
   "cell_type": "markdown",
   "id": "f847f01d",
   "metadata": {},
   "source": [
    "# Perceptron \n",
    "\n",
    "## A Brief Walkthrough \n",
    "1. Read the dataset and store it.\n",
    "\n",
    "2. Perform some exploratory data analysis and preprocessing which includs swapping 0's with -1's, duplicate row removal, outlier removal.\n",
    "\n",
    "3. Implement the perceptron algorithm, and it's auxiliary functions like loss, prediction.\n",
    "\n",
    "4. Implement K-fold cross validation and report mean error.\n",
    "\n",
    "5. Use K-fold cross validation to select the best hyperparameter based on min average loss.\n",
    "\n",
    "6. Run the model with best hyperparameter selected in step 5.\n",
    "    "
   ]
  },
  {
   "cell_type": "code",
   "execution_count": 840,
   "id": "93ec23a1",
   "metadata": {},
   "outputs": [
    {
     "data": {
      "text/html": [
       "<div>\n",
       "<style scoped>\n",
       "    .dataframe tbody tr th:only-of-type {\n",
       "        vertical-align: middle;\n",
       "    }\n",
       "\n",
       "    .dataframe tbody tr th {\n",
       "        vertical-align: top;\n",
       "    }\n",
       "\n",
       "    .dataframe thead th {\n",
       "        text-align: right;\n",
       "    }\n",
       "</style>\n",
       "<table border=\"1\" class=\"dataframe\">\n",
       "  <thead>\n",
       "    <tr style=\"text-align: right;\">\n",
       "      <th></th>\n",
       "      <th>variance</th>\n",
       "      <th>skewness</th>\n",
       "      <th>curtosis</th>\n",
       "      <th>entropy</th>\n",
       "      <th>bias</th>\n",
       "      <th>class</th>\n",
       "    </tr>\n",
       "  </thead>\n",
       "  <tbody>\n",
       "    <tr>\n",
       "      <th>0</th>\n",
       "      <td>3.62160</td>\n",
       "      <td>8.6661</td>\n",
       "      <td>-2.8073</td>\n",
       "      <td>-0.44699</td>\n",
       "      <td>1</td>\n",
       "      <td>-1</td>\n",
       "    </tr>\n",
       "    <tr>\n",
       "      <th>1</th>\n",
       "      <td>4.54590</td>\n",
       "      <td>8.1674</td>\n",
       "      <td>-2.4586</td>\n",
       "      <td>-1.46210</td>\n",
       "      <td>1</td>\n",
       "      <td>-1</td>\n",
       "    </tr>\n",
       "    <tr>\n",
       "      <th>2</th>\n",
       "      <td>3.86600</td>\n",
       "      <td>-2.6383</td>\n",
       "      <td>1.9242</td>\n",
       "      <td>0.10645</td>\n",
       "      <td>1</td>\n",
       "      <td>-1</td>\n",
       "    </tr>\n",
       "    <tr>\n",
       "      <th>3</th>\n",
       "      <td>3.45660</td>\n",
       "      <td>9.5228</td>\n",
       "      <td>-4.0112</td>\n",
       "      <td>-3.59440</td>\n",
       "      <td>1</td>\n",
       "      <td>-1</td>\n",
       "    </tr>\n",
       "    <tr>\n",
       "      <th>4</th>\n",
       "      <td>0.32924</td>\n",
       "      <td>-4.4552</td>\n",
       "      <td>4.5718</td>\n",
       "      <td>-0.98880</td>\n",
       "      <td>1</td>\n",
       "      <td>-1</td>\n",
       "    </tr>\n",
       "  </tbody>\n",
       "</table>\n",
       "</div>"
      ],
      "text/plain": [
       "   variance  skewness  curtosis  entropy  bias  class\n",
       "0   3.62160    8.6661   -2.8073 -0.44699     1     -1\n",
       "1   4.54590    8.1674   -2.4586 -1.46210     1     -1\n",
       "2   3.86600   -2.6383    1.9242  0.10645     1     -1\n",
       "3   3.45660    9.5228   -4.0112 -3.59440     1     -1\n",
       "4   0.32924   -4.4552    4.5718 -0.98880     1     -1"
      ]
     },
     "execution_count": 840,
     "metadata": {},
     "output_type": "execute_result"
    }
   ],
   "source": [
    "data=pd.read_csv(\"BankNote_Authentication.csv\")\n",
    "\n",
    "#Adding a column of \"1's\" to include bias term as one of the trainable parameters(weights)\n",
    "data.insert(4,\"bias\",[1]*data.shape[0],True) \n",
    "\n",
    "#Changing the output labels from {0,1} to {-1,1}, which will allow us to have a condensed checking condition\n",
    "data['class']=data['class'].replace(to_replace =0, \n",
    "                 value =-1)\n",
    "data.head()"
   ]
  },
  {
   "cell_type": "code",
   "execution_count": 841,
   "id": "4d199ad9",
   "metadata": {},
   "outputs": [
    {
     "name": "stdout",
     "output_type": "stream",
     "text": [
      "<class 'pandas.core.frame.DataFrame'>\n",
      "RangeIndex: 1372 entries, 0 to 1371\n",
      "Data columns (total 6 columns):\n",
      " #   Column    Non-Null Count  Dtype  \n",
      "---  ------    --------------  -----  \n",
      " 0   variance  1372 non-null   float64\n",
      " 1   skewness  1372 non-null   float64\n",
      " 2   curtosis  1372 non-null   float64\n",
      " 3   entropy   1372 non-null   float64\n",
      " 4   bias      1372 non-null   int64  \n",
      " 5   class     1372 non-null   int64  \n",
      "dtypes: float64(4), int64(2)\n",
      "memory usage: 64.4 KB\n"
     ]
    }
   ],
   "source": [
    "\n",
    "data.info()\n"
   ]
  },
  {
   "cell_type": "code",
   "execution_count": 842,
   "id": "180978d7",
   "metadata": {},
   "outputs": [
    {
     "name": "stdout",
     "output_type": "stream",
     "text": [
      "<class 'pandas.core.frame.DataFrame'>\n",
      "RangeIndex: 1348 entries, 0 to 1347\n",
      "Data columns (total 6 columns):\n",
      " #   Column    Non-Null Count  Dtype  \n",
      "---  ------    --------------  -----  \n",
      " 0   variance  1348 non-null   float64\n",
      " 1   skewness  1348 non-null   float64\n",
      " 2   curtosis  1348 non-null   float64\n",
      " 3   entropy   1348 non-null   float64\n",
      " 4   bias      1348 non-null   int64  \n",
      " 5   class     1348 non-null   int64  \n",
      "dtypes: float64(4), int64(2)\n",
      "memory usage: 63.3 KB\n"
     ]
    }
   ],
   "source": [
    "#Removing duplicate rows from the dataset\n",
    "data.drop_duplicates(subset=None,keep='first',inplace=True, ignore_index=True)\n",
    "data.info()"
   ]
  },
  {
   "cell_type": "code",
   "execution_count": 843,
   "id": "986cc042",
   "metadata": {},
   "outputs": [
    {
     "data": {
      "image/png": "[encoded data removed]",
      "text/plain": [
       "<Figure size 432x288 with 1 Axes>"
      ]
     },
     "metadata": {
      "needs_background": "light"
     },
     "output_type": "display_data"
    }
   ],
   "source": [
    "#Detecting outliers using Box Plot method\n",
    "fig1, ax1 = plt.subplots()\n",
    "red_square = dict(markerfacecolor='r', marker='s')\n",
    "ax1.set_title('Basic Plot')\n",
    "ax1.boxplot([data['variance'],data['skewness'],data['curtosis'],data['entropy']],flierprops=red_square)\n",
    "plt.show()"
   ]
  },
  {
   "cell_type": "markdown",
   "id": "4764ecee",
   "metadata": {},
   "source": [
    "## Outlier Detection and Treatment\n",
    "\n",
    "The former section deals with detection whereas the following section is concerned about treatment.\n",
    "\n",
    "__Detection__\n",
    "* As there're very limited number of features, we decided to plot the features out to visualise which feature has outliers.\n",
    "* Curtosis and Entropy is supposedly having some outliers and we need to decide a way to treat them.\n",
    "\n",
    "__Treatment__\n",
    "* Due to the dataset being small, initially the idea was to cap the values which're above the upper whisker with the tip of upper whisker and data below the lower whisker with the lower whisker value.\n",
    "\n",
    "* But it has been observed that removing outliers performs exceptionally well than retaining them, so the treatment is finalized to removing the outliers."
   ]
  },
  {
   "cell_type": "code",
   "execution_count": 844,
   "id": "cd94d075",
   "metadata": {},
   "outputs": [],
   "source": [
    "#Outlier Treatment\n",
    "# Removing outliers based on whether the points lie above or below whiskers\n",
    "outlier_columns=['curtosis','entropy']\n",
    "\n",
    "for i in outlier_columns:\n",
    "    data[i]=sorted(data[i])\n",
    "    q1=np.percentile(data[i],25)\n",
    "    q3=np.percentile(data[i],75)\n",
    "    IQR=q3-q1\n",
    "    lower=q1-(1.5*IQR) #Lower whisker\n",
    "    upper=q3+(1.5*IQR) #Upper whisker\n",
    "\n",
    "    data= data.drop(data[data[i] <lower ].index)\n",
    "    data=data.drop(data[data[i]>upper].index)\n",
    "\n",
    "\n",
    "   "
   ]
  },
  {
   "cell_type": "code",
   "execution_count": 908,
   "id": "8b2aa784",
   "metadata": {},
   "outputs": [
    {
     "data": {
      "image/png": "[encoded data removed]",
      "text/plain": [
       "<Figure size 432x288 with 1 Axes>"
      ]
     },
     "metadata": {
      "needs_background": "light"
     },
     "output_type": "display_data"
    }
   ],
   "source": [
    "#Box plot after removing outliers\n",
    "fig1, ax1 = plt.subplots()\n",
    "red_square = dict(markerfacecolor='r', marker='s')\n",
    "ax1.set_title('Box plot')\n",
    "ax1.boxplot([data['variance'],data['skewness'],data['curtosis'],data['entropy']],flierprops=red_square)\n",
    "plt.show()"
   ]
  },
  {
   "cell_type": "code",
   "execution_count": 846,
   "id": "8d49d79d",
   "metadata": {},
   "outputs": [
    {
     "data": {
      "image/png": "[encoded data removed]",
      "text/plain": [
       "<Figure size 432x288 with 1 Axes>"
      ]
     },
     "metadata": {
      "needs_background": "light"
     },
     "output_type": "display_data"
    }
   ],
   "source": [
    "#To check the balance/imbalance of classes\n",
    "plt.bar(x=['-1','1'], height=[(data['class'] == -1).sum(),(data['class'] == 1).sum()], color=['red','blue'])\n",
    "plt.title('Frequency of each class');\n",
    "\n"
   ]
  },
  {
   "cell_type": "code",
   "execution_count": 847,
   "id": "1450bbd1",
   "metadata": {},
   "outputs": [
    {
     "data": {
      "text/html": [
       "<div>\n",
       "<style scoped>\n",
       "    .dataframe tbody tr th:only-of-type {\n",
       "        vertical-align: middle;\n",
       "    }\n",
       "\n",
       "    .dataframe tbody tr th {\n",
       "        vertical-align: top;\n",
       "    }\n",
       "\n",
       "    .dataframe thead th {\n",
       "        text-align: right;\n",
       "    }\n",
       "</style>\n",
       "<table border=\"1\" class=\"dataframe\">\n",
       "  <thead>\n",
       "    <tr style=\"text-align: right;\">\n",
       "      <th></th>\n",
       "      <th>variance</th>\n",
       "      <th>skewness</th>\n",
       "      <th>curtosis</th>\n",
       "      <th>entropy</th>\n",
       "      <th>bias</th>\n",
       "      <th>class</th>\n",
       "    </tr>\n",
       "  </thead>\n",
       "  <tbody>\n",
       "    <tr>\n",
       "      <th>31</th>\n",
       "      <td>1.32138</td>\n",
       "      <td>3.283149</td>\n",
       "      <td>-4.935603</td>\n",
       "      <td>-6.028459</td>\n",
       "      <td>1</td>\n",
       "      <td>-1</td>\n",
       "    </tr>\n",
       "    <tr>\n",
       "      <th>32</th>\n",
       "      <td>4.12988</td>\n",
       "      <td>7.272749</td>\n",
       "      <td>-4.898803</td>\n",
       "      <td>-5.971559</td>\n",
       "      <td>1</td>\n",
       "      <td>-1</td>\n",
       "    </tr>\n",
       "    <tr>\n",
       "      <th>33</th>\n",
       "      <td>-1.13213</td>\n",
       "      <td>9.066849</td>\n",
       "      <td>-4.877303</td>\n",
       "      <td>-5.842259</td>\n",
       "      <td>1</td>\n",
       "      <td>-1</td>\n",
       "    </tr>\n",
       "    <tr>\n",
       "      <th>34</th>\n",
       "      <td>-1.78322</td>\n",
       "      <td>0.464829</td>\n",
       "      <td>-4.869603</td>\n",
       "      <td>-5.837159</td>\n",
       "      <td>1</td>\n",
       "      <td>-1</td>\n",
       "    </tr>\n",
       "    <tr>\n",
       "      <th>35</th>\n",
       "      <td>2.27208</td>\n",
       "      <td>6.097449</td>\n",
       "      <td>-4.861103</td>\n",
       "      <td>-5.820359</td>\n",
       "      <td>1</td>\n",
       "      <td>-1</td>\n",
       "    </tr>\n",
       "  </tbody>\n",
       "</table>\n",
       "</div>"
      ],
      "text/plain": [
       "    variance  skewness  curtosis   entropy  bias  class\n",
       "31   1.32138  3.283149 -4.935603 -6.028459     1     -1\n",
       "32   4.12988  7.272749 -4.898803 -5.971559     1     -1\n",
       "33  -1.13213  9.066849 -4.877303 -5.842259     1     -1\n",
       "34  -1.78322  0.464829 -4.869603 -5.837159     1     -1\n",
       "35   2.27208  6.097449 -4.861103 -5.820359     1     -1"
      ]
     },
     "execution_count": 847,
     "metadata": {},
     "output_type": "execute_result"
    }
   ],
   "source": [
    "# Standardizing the features so that the scale becomes smaller but the information retains\n",
    "cols_to_norm = [ 'variance', 'skewness', 'curtosis','entropy']\n",
    "data[cols_to_norm] = data[cols_to_norm].apply(lambda x: (x - x.mean() / x.std()))\n",
    "data.head()"
   ]
  },
  {
   "cell_type": "code",
   "execution_count": 848,
   "id": "d0d2bcc8",
   "metadata": {},
   "outputs": [],
   "source": [
    "#Shuffling data to create randomness\n",
    "data = data.sample(frac=1).reset_index(drop=True)\n",
    "train_split_percent = 0.8\n",
    "size = data.shape[0]\n",
    "train=data.iloc[:int(train_split_percent * size),:]\n",
    "test=data.iloc[int(train_split_percent * size):,:]\n",
    "\n"
   ]
  },
  {
   "cell_type": "code",
   "execution_count": 849,
   "id": "d11d476a",
   "metadata": {},
   "outputs": [],
   "source": [
    "y_train, x_train=train['class'].to_numpy(), train.drop(['class'],axis=1).to_numpy()\n",
    "y_test, x_test=test['class'].to_numpy(), test.drop(['class'],axis=1).to_numpy()\n",
    "\n"
   ]
  },
  {
   "cell_type": "markdown",
   "id": "14707612",
   "metadata": {},
   "source": [
    "## Before moving on to the perceptron() algorithm :-\n",
    "\n",
    "* __Convergence Criteria__ :-  We find the mean weight vector $ W_{mean}=\\frac{1}{lookback}\\Sigma_{i=curr-lookback}^{curr} W_i$, where __curr=current iteration number__  and check whether the \n",
    "  difference(or manhattan distance) b/w all those weight vectors $ W_i $ and $ W_{mean} $ is less than a certain tolerance value $ \\sigma $, if the condition satisfies, that indicates weights are not deviating much from the mean and we can put our algorithm to a halt. To express it formally the condition is:\n",
    "  \n",
    "  $ |W_i - W_{mean} | \\leq \\sigma, \\forall i \\in [curr-Lookback, curr] $\n",
    " \n",
    "* __Lookback__:- A trainable hyperparameter, this variable stores how far we're looking into the past iteration weight values for checking the convergence criterion.\n",
    " \n",
    " \n"
   ]
  },
  {
   "cell_type": "code",
   "execution_count": 850,
   "id": "803702db",
   "metadata": {},
   "outputs": [],
   "source": [
    "def perceptron1(x_train,y_train,lookback):\n",
    "    w_t=np.ones(5) #Intialized weights vectors with all 1's(will keep on updating as the algo progresses)\n",
    "    \n",
    "    count=0\n",
    "    w_t_prev=w_t\n",
    "    \n",
    "    sample=[w_t]\n",
    "    \n",
    "    for t in range(1000):\n",
    "        \n",
    "        row_num=np.random.randint(0,x_train.shape[0]-1)\n",
    "        \n",
    "       \n",
    "        #Checking for dissonance b/w prediction and output label, we only update weights based on requirement basis.\n",
    "        if np.dot(w_t,x_train[row_num,:])*y_train[row_num] <0: \n",
    "            \n",
    "            count=0\n",
    "            #If the actual output label was +ve and predicted was -ve, the updation ensures weight vectors shift towards +ve side\n",
    "            w_t=w_t + y_train[row_num]*x_train[row_num,:] \n",
    "            \n",
    "            \n",
    "        # If all weight parameters of successive iterations are within some tolerance \n",
    "        #away from 0, we can conclude them to be equal   \n",
    "        \n",
    "         #If \"lookback\" consequtive updates don't witness much of a change, we declare convergence and break free\n",
    "       \n",
    "        if(t>lookback):\n",
    "            start=t-lookback\n",
    "            wt_mean=np.mean(sample[start:start+lookback],axis=0)\n",
    "            cnt=0\n",
    "            for i in range(start,start+lookback):\n",
    "                if (all(abs(w_t[i]-wt_mean[i])<0.5 for i in range(len(w_t)))):\n",
    "                    cnt+=1\n",
    "                    \n",
    "            if(cnt==lookback):\n",
    "                \n",
    "                break\n",
    "                    \n",
    "        w_t_prev=w_t\n",
    "        sample.append(w_t)\n",
    "            \n",
    "            \n",
    "    return w_t,t"
   ]
  },
  {
   "cell_type": "code",
   "execution_count": 851,
   "id": "fca47bdf",
   "metadata": {},
   "outputs": [],
   "source": [
    "#Incarnation of perceptron loss function\n",
    "def loss_fn(y_test,pred):\n",
    "    loss=0\n",
    "    for i in range(len(pred)):\n",
    "        loss+=max(0,-y_test[i]*pred[i])\n",
    "        \n",
    "    return (loss/len(y_test))*100\n"
   ]
  },
  {
   "cell_type": "code",
   "execution_count": 852,
   "id": "a91a09b1",
   "metadata": {},
   "outputs": [],
   "source": [
    "#Function responsible for making prediction based on trained weights\n",
    "def prediction(x,w_t):\n",
    "    pred= np.matmul(x,w_t)\n",
    "    \n",
    "    #If the prediction is +ve, we output +1 else -1\n",
    "    pred= [1 if pred[i]>=0 else -1 for i in range(pred.shape[0]) ] \n",
    "    \n",
    "    return pred\n",
    "    "
   ]
  },
  {
   "cell_type": "code",
   "execution_count": 857,
   "id": "0db162c4",
   "metadata": {},
   "outputs": [
    {
     "data": {
      "image/png": "[encoded data removed]",
      "text/plain": [
       "<Figure size 432x288 with 1 Axes>"
      ]
     },
     "metadata": {
      "needs_background": "light"
     },
     "output_type": "display_data"
    }
   ],
   "source": [
    "loss=[]\n",
    "iterations=[]\n",
    "for i in range(50):\n",
    "    w_t,itr=perceptron1(x_train,y_train,80)\n",
    "    loss.append(loss_fn(y_test,prediction(x_test,w_t)))\n",
    "    iterations.append(itr)\n",
    " \n",
    "\n",
    "plt.plot(iterations)\n",
    "plt.ylabel(\"Convergence time(in iterations)\")\n",
    "plt.xlabel(\"Experiment number\")\n",
    "plt.title('Converging time vs times experimented \\n mean loss(in percent) = %s'%(np.round(np.mean(loss),2)),fontsize=20)\n",
    "plt.show()"
   ]
  },
  {
   "cell_type": "markdown",
   "id": "1b16b4ce",
   "metadata": {},
   "source": [
    "## Key insights and interpretations:-\n",
    "\n",
    "* The graph above demonstrates that the algorithm seldom hit it's max iteration count(1000) and breaks much before that,\n",
    "  hinting towards early convergence in most of the cases with a pretty convincing mean error rate.\n",
    "  \n",
    "* As the mean error rate sits in a sweet spot, we can also infer that the data is almost linearly seperable."
   ]
  },
  {
   "cell_type": "code",
   "execution_count": 858,
   "id": "cdd9ad57",
   "metadata": {},
   "outputs": [],
   "source": [
    "#K-fold cross validation on the training set, often used to select learnable hyperparameters based on it's average\n",
    "#performance on k validation sets across k iterations\n",
    "\n",
    "def k_fold_cross_val(k,data,lookback):\n",
    "    \n",
    "    #Randomizing data to introduce randomness while picking validation set\n",
    "    data = data.sample(frac=1).reset_index(drop=True)\n",
    "    \n",
    "    size=int(data.shape[0]/k)\n",
    "    W=[]\n",
    "    Loss=[]\n",
    "    data=data.to_numpy() #Converting dataframe to numpy as, moving forward we'll seek help of the rich numpy library\n",
    "    \n",
    "    #Across all the iterations we make sure each of the \"k\" parts get to become a validation set once, while rest of\n",
    "    # k-1 parts will act as our training set\n",
    "    for i in range(k):\n",
    "        \n",
    "        #This is the part where training and validation set part ways to serve their purpose, \n",
    "        #and are further splitted into features, outputs.\n",
    "        train=data[:i*size,:]\n",
    "        vald=data[i*size:(i+1)*size,:]\n",
    "        \n",
    "        if((i+1)*size !=data.shape[0]):\n",
    "            if(i==0):\n",
    "                train=data[(i+1)*size:,:]\n",
    "                \n",
    "            else:\n",
    "                train=np.vstack((train,data[(i+1)*size:,:])) #stacking vertically\n",
    "                \n",
    "        \n",
    "        \n",
    "        y_train, x_train=train[:,-1], train[:,:-1]\n",
    "        y_vald, x_vald=vald[:,-1], vald[:,:-1]\n",
    "        \n",
    "        \n",
    "        \n",
    "        #Model is trained, predictions are made and the loss is collected to be used later for averaging\n",
    "        w_t,itr=perceptron1(x_train,y_train,lookback)\n",
    "       \n",
    "        pred= prediction(x_vald,w_t)\n",
    "        \n",
    "        W.append(w_t)\n",
    "       \n",
    "        Loss.append(loss_fn(y_vald,pred))\n",
    "        \n",
    "    \n",
    "    \n",
    "    \n",
    "    #Returning mean loss\n",
    "    return np.mean(Loss)\n",
    "        \n",
    "        "
   ]
  },
  {
   "cell_type": "code",
   "execution_count": 859,
   "id": "774eee01",
   "metadata": {},
   "outputs": [
    {
     "name": "stdout",
     "output_type": "stream",
     "text": [
      "Cross validated mean error is 2.31\n"
     ]
    }
   ],
   "source": [
    "print(\"Cross validated mean error is %s\"%(np.round(k_fold_cross_val(14,train,80),2)))"
   ]
  },
  {
   "cell_type": "code",
   "execution_count": 862,
   "id": "dfd20a3e",
   "metadata": {},
   "outputs": [
    {
     "data": {
      "image/png": "[encoded data removed]",
      "text/plain": [
       "<Figure size 432x288 with 1 Axes>"
      ]
     },
     "metadata": {
      "needs_background": "light"
     },
     "output_type": "display_data"
    }
   ],
   "source": [
    "lookback_list=[20, 40, 60, 80, 100, 120, 140, 180, 200]\n",
    "loss=[]\n",
    "for lookback in lookback_list:\n",
    "    loss.append(k_fold_cross_val(14,train,lookback))\n",
    "\n",
    "\n",
    "plt.plot(lookback_list,loss)\n",
    "plt.xlabel(\"Lookback \")\n",
    "plt.ylabel(\"Mean cross-validated loss\")\n",
    "plt.title(\"Error vs Lookback\",fontsize=20)\n",
    "plt.show()"
   ]
  },
  {
   "cell_type": "markdown",
   "id": "79463606",
   "metadata": {},
   "source": [
    "## Observations\n",
    "\n",
    "* Although we can't offer a guaranteed point estimate of the lookback value owing to the volatile nature of the above plot, we can certainly produce a range containing the optimal value with decent degree of confidence.__\n",
    "\n",
    "* [75,150] is an empirical range where the best value of lookback mostly lies, and we'll be picking 125 as our best model hyperparameter in the following segment.\n",
    "\n",
    " \n",
    "\n"
   ]
  },
  {
   "cell_type": "code",
   "execution_count": 722,
   "id": "c372a838",
   "metadata": {},
   "outputs": [],
   "source": [
    "def F1(pred,y_test):\n",
    "    \n",
    "   \n",
    "    \n",
    "    for i in range(len(pred)):\n",
    "         #if prediction and actual result is equal and positive, we've found a True Positive\n",
    "        TP=[1 if (pred[i]==1 and y_test[i]==1) else 0 for i in range(len(pred))] \n",
    "    \n",
    "    \n",
    "        #if prediction result is +ve but actual result is -ve it's a False Positive\n",
    "        FP=[1 if (pred[i]==1 and y_test[i]==-1) else 0 for i in range(len(pred))]\n",
    "    \n",
    "    \n",
    "        #if prediction result is -ve but actual result is +ve it's a False Negative\n",
    "        FN=[1 if (pred[i]==-1 and y_test[i]==1) else 0 for i in range(len(pred))]\n",
    "    \n",
    "    \n",
    "        #Harmonic mean of precision and recall\n",
    "    F1= sum(TP)/(sum(TP)+ 0.5*(sum(FP)+sum(FN)))\n",
    "    \n",
    "    return F1"
   ]
  },
  {
   "cell_type": "code",
   "execution_count": 751,
   "id": "7ae7d211",
   "metadata": {},
   "outputs": [
    {
     "name": "stdout",
     "output_type": "stream",
     "text": [
      "F1 score= 0.99\n"
     ]
    }
   ],
   "source": [
    "w_t,itr=perceptron1(x_train,y_train,125)\n",
    "\n",
    "print(\"F1 score= %s\"%(np.round(F1(prediction(x_test,w_t),y_test),2)))\n"
   ]
  },
  {
   "cell_type": "markdown",
   "id": "e93bb127",
   "metadata": {},
   "source": [
    "# MCMC approximation \n",
    "\n",
    "## A Brief Walkthrough\n",
    "1. Plot distribution of prior, likelihood and posterior\n",
    "2. Use mcmc sampling to find approximate posterior distribution.\n",
    "3. Test convergence(in terms of iterations) different values of proposal width and draw insights."
   ]
  },
  {
   "cell_type": "code",
   "execution_count": 2,
   "id": "5cb9486f",
   "metadata": {},
   "outputs": [],
   "source": [
    "np.random.seed(1)"
   ]
  },
  {
   "cell_type": "code",
   "execution_count": 3,
   "id": "ac7cbaa5",
   "metadata": {},
   "outputs": [],
   "source": [
    "def normal_pdf(x,mu,sigma):\n",
    "    \n",
    "    y=np.exp(-np.square(x-mu)/(2*sigma*sigma))/(np.sqrt(2*np.pi*sigma*sigma))\n",
    "    return y\n",
    "    "
   ]
  },
  {
   "cell_type": "markdown",
   "id": "0ce39775",
   "metadata": {},
   "source": [
    "###  Prior ~ $ N(\\mu_P, \\sigma_P^2) $ ~ N(25, 25) "
   ]
  },
  {
   "cell_type": "code",
   "execution_count": 917,
   "id": "1d8ff17a",
   "metadata": {},
   "outputs": [
    {
     "name": "stdout",
     "output_type": "stream",
     "text": [
      "Std of prior=5\n",
      " Mean of prior=25\n"
     ]
    },
    {
     "data": {
      "image/png": "[encoded data removed]",
      "text/plain": [
       "<Figure size 432x288 with 1 Axes>"
      ]
     },
     "metadata": {
      "needs_background": "light"
     },
     "output_type": "display_data"
    }
   ],
   "source": [
    "#Plotting prior\n",
    "mu_prior=25; std_prior=5; var_prior=np.square(std_prior)\n",
    "\n",
    "print(\"Std of prior=%s\\n Mean of prior=%s\"%(round(std_prior),round(mu_prior)))\n",
    "prior_x=np.linspace(mu_prior - 3*std_prior, mu_prior + 3*std_prior,10000)\n",
    "plt.plot(prior_x, normal_pdf(prior_x,mu_prior,std_prior))\n",
    "plt.title('Prior Distribution')\n",
    "plt.show()"
   ]
  },
  {
   "cell_type": "markdown",
   "id": "6e666ba6",
   "metadata": {},
   "source": [
    "## Deriving pdf of Likelihood\n",
    "\n",
    "<ul>\n",
    "    <li> There are n=50 independent trials</li>\n",
    "    <li> Each data point is sampled from a $ N(\\mu=10, \\sigma^2=25) $ </li>\n",
    "</ul>\n",
    "\n",
    "P(X_1=x_1,...X_n=x_n | $ \\mu,\\sigma^2 $)= L($ \\mu, \\sigma^2 $)= $ \\prod_{i=1}^{n}\\frac{1}{\\sqrt{2*\\pi*\\sigma^2}}*exp(\\frac{-1}{2\\sigma^2}(x_i - \\mu)^2) $\n",
    "\n",
    "or, $ (\\frac{1}{\\sqrt{2*\\pi*\\sigma^2}})^n exp(\\frac{-1}{2\\sigma^2}\\Sigma^n_{i=1}(x_i - \\mu)^2) $\n",
    "\n",
    "$ \\propto exp({\\frac{-1}{2\\sigma^2}\\Sigma^n_{i=1}(x_i^2 + \\mu^2 -2\\mu x_i )}) $\n",
    "\n",
    "$ or, exp({\\frac{-1}{2\\sigma^2}(\\Sigma^n_{i=1}x_i^2 + n\\mu^2 -2\\mu n \\bar{x} )}) $\n",
    "\n",
    "$ or, exp({\\frac{-n}{2\\sigma^2}(\\mu^2 -2\\mu\\bar{x} + \\frac{1}{n}\\Sigma_{i=1}x_i^2)}) $\n",
    "\n",
    "$ or, exp({\\frac{-n}{2\\sigma^2}(\\mu^2 -2\\mu\\bar{x} + \\bar{x}^2 - \\bar{x}^2 + \\frac{1}{n}\\Sigma_{i=1}x_i^2)}) $\n",
    "\n",
    "$ or, exp( \\frac{-n}{2\\sigma^2}((\\mu - \\bar{x})^2 - \\sigma^2)) $\n",
    "\n",
    "$ or, exp( \\frac{-n}{2\\sigma^2}(\\mu - \\bar{x})^2 + \\frac{n}{2})) $\n",
    "\n",
    "$ \\propto exp(\\frac{-n}{2\\sigma^2}(\\mu - \\bar{x})^2) $\n",
    "\n",
    "Product of Normal distributions is a Normal distribution,comparing the above expression with $N(\\mu_{L},\\sigma_{L}^{2}) \\propto exp({\\frac{-1}{2\\sigma_L^2}(\\mu-\\mu_L)^2})=exp({\\frac{-1}{2\\sigma_L^2}(\\mu^2 - 2\\mu\\mu_L + \\mu_L^2 )})$, we get:-\n",
    "\n",
    "### $ \\mu_L=\\frac{1}{n}\\Sigma_{i=1}{n}x_i=\\bar{x}, \\sigma_L^2= \\frac{\\sigma^2}{n} $\n",
    "\n",
    "### Likelihood ~ $ N(\\mu_{L}=\\bar{x}, \\sigma_{L}^{2}=\\frac{\\sigma^2}{n} )$"
   ]
  },
  {
   "cell_type": "code",
   "execution_count": 916,
   "id": "9196eaf1",
   "metadata": {},
   "outputs": [
    {
     "name": "stdout",
     "output_type": "stream",
     "text": [
      "Std deviation of likelihood=10.27 \n",
      " Mean of likelihood=0.71\n"
     ]
    },
    {
     "data": {
      "image/png": "[encoded data removed]",
      "text/plain": [
       "<Figure size 432x288 with 1 Axes>"
      ]
     },
     "metadata": {
      "needs_background": "light"
     },
     "output_type": "display_data"
    }
   ],
   "source": [
    "# Sampling 50 random points from the normal distribution\n",
    "sample=np.random.normal(10,5,50)\n",
    "\n",
    "#Setting parameters for likelihood distribution, \n",
    "\n",
    "mu_lik=np.mean(sample)\n",
    "\n",
    "std_lik=std_prior/np.sqrt(50)\n",
    "print(\"Std deviation of likelihood=%s \\n Mean of likelihood=%s\"%(round(mu_lik,2),round(std_lik,2)))\n",
    "var_lik= np.square(std_lik)\n",
    "\n",
    "x_lik=np.linspace(mu_lik- 5*std_lik, mu_lik + 5*std_lik, 10000)\n",
    "\n",
    "\n",
    "plt.plot(prior_x, normal_pdf(prior_x,mu_prior,std_prior), label='prior')\n",
    "plt.plot(x_lik, normal_pdf(x_lik, mu_lik, std_lik), label='Likelihood')\n",
    "plt.title('Prior & Likelihood distribution')\n",
    "plt.legend()\n",
    "plt.show()"
   ]
  },
  {
   "cell_type": "markdown",
   "id": "abc55d48",
   "metadata": {},
   "source": [
    "## Deriving pdf of Posterior\n",
    " $ Prior~N(\\mu_p, \\sigma^2_p), Likelihood ~ N(\\bar{x}, \\frac{\\sigma^2}{n}) $\n",
    " \n",
    " $ Posterior \\propto Prior \\times Likelihood ~ N(\\mu_{post},\\sigma_{post}^2) $\n",
    " \n",
    " $ g(\\mu, y_1,y_2...y_n) \\propto Prior(\\mu) \\times Likelihood(y_1,y_2,...y_n | \\mu) $\n",
    " \n",
    " $ \\propto exp(\\frac{-1}{2\\sigma^2_p}(\\mu - \\mu_p)^2) \\exp(\\frac{-n}{2\\sigma^2}(\\mu - \\bar{x})^2)$\n",
    " \n",
    " $ = exp(\\frac{-1}{2\\sigma^2_p}(\\mu^2 - 2\\mu \\mu_p +\\mu_p^2)) \\exp(\\frac{-n}{2\\sigma^2}(\\mu^2 - 2\\mu\\bar{x} +\\bar{x}^2))$\n",
    " \n",
    " $ = exp(\\frac{-1}{2}[\\mu^2(\\frac{1}{\\sigma_p^2} +\\frac{n}{\\sigma^2}) - 2\\mu(\\frac{\\mu_p}{\\sigma_p^2} + \\frac{n\\bar{x}}{\\sigma^2}) + \\frac{\\mu_p^2}{\\sigma_p^2} + \\frac{\\bar{x}^2}{\\sigma^2}]) $\n",
    " \n",
    "Compare the above expression with:- $ exp(\\frac{-1}{2\\sigma_{post}}[\\mu^2 + \\mu_{post}^2 -2\\mu\\mu_{post}])  $\n",
    "\n",
    "\n",
    "\n",
    "\n",
    " $ N(\\mu_{post}= \\frac{\\mu_p\\sigma^2 + n\\bar{x}\\sigma_p^2}{\\sigma^2 + \\sigma_p^2 n} , \\sigma_{post}^2=\\frac{\\sigma^2 \\sigma_p^2}{\\sigma^2 + \\sigma_p^2 n}) $"
   ]
  },
  {
   "cell_type": "code",
   "execution_count": 915,
   "id": "32a2eb06",
   "metadata": {},
   "outputs": [
    {
     "name": "stdout",
     "output_type": "stream",
     "text": [
      "Std deviation of posterior=0.7 \n",
      " Mean of posterior=10.28\n"
     ]
    },
    {
     "data": {
      "image/png": "[encoded data removed]",
      "text/plain": [
       "<Figure size 432x288 with 1 Axes>"
      ]
     },
     "metadata": {
      "needs_background": "light"
     },
     "output_type": "display_data"
    }
   ],
   "source": [
    "#Returns variance and mean of posterior given necessary inputs of prior and likelihood\n",
    "def posterior(mu_prior,mu_lik, std_prior, std_likelihood,n):\n",
    "    \n",
    "    var_post= np.square(std_prior*std_likelihood)/(np.square(std_likelihood)+ np.square(std_prior)*n)\n",
    "    mu_post= (mu_prior*np.square(std_likelihood) + n*mu_lik*np.square(std_prior))/(np.square(std_likelihood)+ np.square(std_prior)*n)\n",
    "    \n",
    "    return var_post, mu_post\n",
    "\n",
    "\n",
    "\n",
    "var_post, mu_post = posterior(mu_prior, mu_lik, std_prior, 5, 50 )\n",
    "print(\"Std deviation of posterior=%s \\n Mean of posterior=%s\"%(np.round(np.sqrt(var_post),2),np.round(mu_post,2)))\n",
    "std_post=np.sqrt(var_post)\n",
    "x_lik=np.linspace(mu_lik- 5*std_lik, mu_lik + 5*std_lik, 10000)\n",
    "\n",
    "plt.plot(prior_x, normal_pdf(prior_x, mu_prior, std_prior),label='prior')\n",
    "plt.plot(x_lik, normal_pdf(x_lik, mu_lik, std_lik),label='likelihood')\n",
    "x_post=np.linspace(mu_post-4*std_post, mu_post + 4*std_post, 10000)\n",
    "plt.plot(x_post, normal_pdf(x_post, mu_post, std_post), label='posterior')\n",
    "plt.title('Prior & Likelihood & Posterior distribution')\n",
    "plt.legend()\n",
    "plt.show()"
   ]
  },
  {
   "cell_type": "markdown",
   "id": "63f92639",
   "metadata": {},
   "source": [
    "## Preliminaries:\n",
    "\n",
    "* __Convergence Criteria__ :- Similar to what we've encountered in the previous problem with vectors, but the focus just shfited to scaler values here. We find mean of past \"lookback\" values and then validate whether all those values are within a tolerance limit away from the mean. To put it formally we have:-\n",
    "\n",
    "$ |\\theta_{i}-\\theta_{mean}|<tolerance, \\forall i\\in[curr-lookback,curr] $\n",
    "\n",
    "__Where: curr=current iteration__\n",
    "\n",
    "* __Lookback__ :- count of past values that're considered for checking convergence.\n",
    "\n"
   ]
  },
  {
   "cell_type": "code",
   "execution_count": 899,
   "id": "ca3ee911",
   "metadata": {},
   "outputs": [],
   "source": [
    "#Likelihood is the product of probability of all 50 data points\n",
    "def likelihood(lik_sample,mu, sigma):\n",
    "    \n",
    "    l=[normal_pdf(i,mu,sigma) for i in lik_sample]\n",
    "    \n",
    "    return np.prod(l)\n",
    "    \n",
    "#MCMC sampling():\n",
    "#itr= number of iterations/sampling performed, \n",
    "# prop_width= standard deviation which remains constant throughout\n",
    "# lik_sample= sample of 50 data-points from N(10,25)\n",
    "#Jumper distribution ~ N(0,25)\n",
    "def mcmc_sampling(itr, min_iterations, prop_width, lik_sample, lookback ):\n",
    "    \n",
    "    #Initial parameters for jumper distribution\n",
    "    mu_i=0\n",
    "    sigma=prop_width\n",
    "    \n",
    "    prior_prob=normal_pdf(mu_i,25,5)\n",
    "    \n",
    "    prob_lik=likelihood(lik_sample,mu_i,sigma)\n",
    "    prob_lik=np.prod(prob_lik)\n",
    "    sample=[]\n",
    "    sample.append(mu_i)\n",
    "    post_prev=prob_lik*prior_prob\n",
    "    \n",
    "    \n",
    "    for i in range(itr):\n",
    "        \n",
    "        \n",
    "        # Proposed mean sampled from the jumper distribution\n",
    "        mu_i1=np.random.normal(mu_i,sigma) \n",
    "        \n",
    "        \n",
    "        # Prior probability of proposed mean where the mean and std dev of prior distribution is fixed as 25,5\n",
    "\n",
    "        prior_prob=normal_pdf(mu_i1,25,5)\n",
    "\n",
    "        \n",
    "        # Invokes likelihood() fn. to compute likelihood of 50 generated data points, when the normal distribution is centred\n",
    "        # around proposed value of mean\n",
    "        prob_lik=likelihood(lik_sample, mu_i1, sigma)\n",
    "        \n",
    "        post_cur=prob_lik*prior_prob #Posterior proporitional to likelihood * prior\n",
    "        \n",
    "        #Ratio of current value to previous value of posterior\n",
    "        r= min(1,(post_cur/post_prev))\n",
    "        \n",
    "        a=np.random.uniform(0,1)\n",
    "        \n",
    "        if(r>a):\n",
    "            mu_i=mu_i1\n",
    "            post_prev=post_cur\n",
    "         \n",
    "        \n",
    "        sample.append(mu_i)\n",
    "        #Convergence criteria as described above\n",
    "        if(i>=min_iterations):\n",
    "            \n",
    "            start=i-lookback\n",
    "            mean=np.mean(sample[start:start+lookback])\n",
    "\n",
    "            if(all(abs(sample[i]-mean)<1.2 for i in range(start,start+lookback))):\n",
    "                \n",
    "                break\n",
    "            \n",
    "            \n",
    "           \n",
    "        \n",
    "    return (sample,i)\n",
    "\n",
    "\n",
    "#Initial propositions of mean is less likely to be sampled from target distribution so we ignore those values\n",
    "burn_in=1000\n",
    "retained_samples=mcmc_sampling(100000,5000,5,sample,800)[0][burn_in:]\n",
    "\n",
    "\n"
   ]
  },
  {
   "cell_type": "code",
   "execution_count": 900,
   "id": "ba73a37a",
   "metadata": {},
   "outputs": [
    {
     "data": {
      "image/png": "[encoded data removed]",
      "text/plain": [
       "<Figure size 720x432 with 1 Axes>"
      ]
     },
     "metadata": {
      "needs_background": "light"
     },
     "output_type": "display_data"
    }
   ],
   "source": [
    "plt.figure(figsize=(10,6))\n",
    "plt.hist(retained_samples, bins=500, density=True)\n",
    "plt.xlim(mu_post-10*std_post, mu_post + 10*std_post)\n",
    "x_post=np.linspace(mu_post-5*std_post, mu_post + 5*std_post, 1000000)\n",
    "plt.plot(x_post, normal_pdf(x_post, mu_post, std_post), label='posterior')\n",
    "plt.title('Empirical Exp. Value: %s\\nTrue Exp. Value: %s'%(round(np.mean(retained_samples), 2),round(mu_post, 2) ), fontsize=20)\n",
    "plt.legend([\"Approximation\",\"Analytic Posterior\"])\n",
    "plt.show()\n"
   ]
  },
  {
   "cell_type": "code",
   "execution_count": 889,
   "id": "4465cd73",
   "metadata": {},
   "outputs": [
    {
     "name": "stderr",
     "output_type": "stream",
     "text": [
      "C:\\Users\\Jijo98\\AppData\\Local\\Temp/ipykernel_1512/4116509783.py:46: RuntimeWarning: invalid value encountered in double_scalars\n",
      "  r= min(1,(post_cur/post_prev))\n",
      "C:\\Users\\Jijo98\\AppData\\Local\\Temp/ipykernel_1512/4116509783.py:46: RuntimeWarning: divide by zero encountered in double_scalars\n",
      "  r= min(1,(post_cur/post_prev))\n"
     ]
    }
   ],
   "source": [
    "proposal_widths=[1,2,3,4,5,6,7]\n",
    "converg_time=[]\n",
    "for std in proposal_widths:\n",
    "    \n",
    "    points,breaking_itr=mcmc_sampling(100000,5000,std,sample,800)\n",
    "    converg_time.append(breaking_itr)\n",
    "    \n"
   ]
  },
  {
   "cell_type": "code",
   "execution_count": 890,
   "id": "671e385f",
   "metadata": {},
   "outputs": [
    {
     "data": {
      "image/png": "[encoded data removed]",
      "text/plain": [
       "<Figure size 432x288 with 1 Axes>"
      ]
     },
     "metadata": {
      "needs_background": "light"
     },
     "output_type": "display_data"
    }
   ],
   "source": [
    "plt.plot(proposal_widths,converg_time)\n",
    "plt.ylabel(\"Convergence time(in iterations)\")\n",
    "plt.xlabel(\"Proposal widths\")\n",
    "plt.title(\"Speed of Convergence vs Proposal Width\")\n",
    "plt.show()"
   ]
  },
  {
   "cell_type": "markdown",
   "id": "f62c9b69",
   "metadata": {},
   "source": [
    "## Proposal width's impact on Speed of Convergence and whatever follows\n",
    "\n",
    "* The graph above features a distinctive phenomenon  where the speed of convergence initially plummeted as we move from 1 to 2, increased very gently from 2-3 and showed a rapid growth from [3-4]. \n",
    "\n",
    "* \"2\" is the best observable proposal width in the graph, however if a range is to be prescribed, [2-3] is a comfortable range to do so.\n",
    "\n",
    "* If we're only concerned with lowering the speed of convergence we'll limit our proposal width to the range of [2-3], but that doesn't guarantee a good approximation of the posterior, as we'll see in the following section how early stoppage or when proposal width=2 affects the approximation."
   ]
  },
  {
   "cell_type": "code",
   "execution_count": 904,
   "id": "3e0dd6e2",
   "metadata": {},
   "outputs": [
    {
     "name": "stderr",
     "output_type": "stream",
     "text": [
      "C:\\Users\\Jijo98\\AppData\\Local\\Temp/ipykernel_1512/1043222552.py:46: RuntimeWarning: invalid value encountered in double_scalars\n",
      "  r= min(1,(post_cur/post_prev))\n",
      "C:\\Users\\Jijo98\\AppData\\Local\\Temp/ipykernel_1512/1043222552.py:46: RuntimeWarning: divide by zero encountered in double_scalars\n",
      "  r= min(1,(post_cur/post_prev))\n"
     ]
    },
    {
     "name": "stdout",
     "output_type": "stream",
     "text": [
      "Algorithm converges at 5000\n"
     ]
    }
   ],
   "source": [
    "#Running the experiment again with proposal_width=2 \n",
    "burn_in=1000\n",
    "retained_samples,itr=mcmc_sampling(100000,5000,2,sample,800)\n",
    "\n",
    "retained_samples=retained_samples[burn_in:]\n",
    "print(\"Algorithm converges at %s\"%(itr))\n"
   ]
  },
  {
   "cell_type": "code",
   "execution_count": 902,
   "id": "d134bcc7",
   "metadata": {},
   "outputs": [
    {
     "data": {
      "image/png": "[encoded data removed]",
      "text/plain": [
       "<Figure size 720x432 with 1 Axes>"
      ]
     },
     "metadata": {
      "needs_background": "light"
     },
     "output_type": "display_data"
    }
   ],
   "source": [
    "plt.figure(figsize=(10,6))\n",
    "plt.hist(retained_samples, bins=500, density=True)\n",
    "plt.xlim(mu_post-10*std_post, mu_post + 10*std_post)\n",
    "x_post=np.linspace(mu_post-5*std_post, mu_post + 5*std_post, 1000000)\n",
    "plt.plot(x_post, normal_pdf(x_post, mu_post, std_post), label='posterior')\n",
    "plt.title('Empirical Exp. Value: %s\\nTrue Exp. Value: %s'%(round(np.mean(retained_samples), 2),round(mu_post, 2) ), fontsize=20)\n",
    "plt.legend(['Approximation','Analytic Posterior'])\n",
    "plt.show()\n"
   ]
  },
  {
   "cell_type": "markdown",
   "id": "e4d1ee26",
   "metadata": {},
   "source": [
    "## Effect of Early Stoppage \n",
    "\n",
    "Using \"2\" as a proposal width might speed up convergence to a great extent as witnessed earlier, but stopping earlier doesn't guarantee a good approximation of the posterior as visible in the graph, due to sheer scarcity of points being sampled. This is a necessary tradeoff between optimal fit and optimal convergence time. If the objective is optimal fit it's better to use \"5\" as the proposal width.\n",
    "\n"
   ]
  },
  {
   "cell_type": "code",
   "execution_count": null,
   "id": "c98fbaff",
   "metadata": {},
   "outputs": [],
   "source": []
  }
 ],
 "metadata": {
  "kernelspec": {
   "display_name": "Python 3 (ipykernel)",
   "language": "python",
   "name": "python3"
  },
  "language_info": {
   "codemirror_mode": {
    "name": "ipython",
    "version": 3
   },
   "file_extension": ".py",
   "mimetype": "text/x-python",
   "name": "python",
   "nbconvert_exporter": "python",
   "pygments_lexer": "ipython3",
   "version": "3.9.6"
  }
 },
 "nbformat": 4,
 "nbformat_minor": 5
}
