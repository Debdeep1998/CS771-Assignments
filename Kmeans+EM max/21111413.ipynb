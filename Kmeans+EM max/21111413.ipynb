{
 "cells": [
  {
   "cell_type": "markdown",
   "metadata": {},
   "source": [
    "Use any additional libraries you want, but if you don't explicitly code stuff that I have explicitly asked you to code, you will not get marks."
   ]
  },
  {
   "cell_type": "markdown",
   "metadata": {},
   "source": [
    "### Q1. Kernel k-means\n",
    "\n",
    "Let's try and end our course on a happy note. The smiley dataset you see below is made up of many clusters of points. "
   ]
  },
  {
   "cell_type": "code",
   "execution_count": 1,
   "metadata": {},
   "outputs": [],
   "source": [
    "import numpy as np\n",
    "import numpy.linalg as lin\n",
    "import numpy.random as rnd\n",
    "from sklearn.metrics.pairwise import euclidean_distances\n",
    "from matplotlib import pyplot as plt\n",
    "from matplotlib.pyplot import cm\n",
    "from scipy.stats import multivariate_normal\n",
    "\n",
    "import time\n",
    "import random\n",
    "\n",
    "\n",
    "def getFigure( sizex = 7, sizey = 7 ):\n",
    "    fig = plt.figure( figsize = (sizex, sizey) )\n",
    "    return fig\n",
    "\n",
    "def plot2D( X, fig, color = 'r', marker = '+', size = 100, empty = False ):\n",
    "    plt.figure( fig.number )\n",
    "    if empty:\n",
    "        plt.scatter( X[:,0], X[:,1], s = size, facecolors = 'none', edgecolors = color, marker = marker  )\n",
    "    else:\n",
    "        plt.scatter( X[:,0], X[:,1], s = size, c = color, marker = marker )\n",
    "\n",
    "\n",
    "def genCrescentData( d, n, mu, r, flipped = False ):\n",
    "    X = np.vstack( (np.cos( np.linspace( 0, np.pi, n ) ), np.sin( np.linspace( 0, np.pi, n ) ) ) ).T\n",
    "    if flipped:\n",
    "        X[:,1] = -np.abs( X[:,1] )\n",
    "    else:\n",
    "        X[:,1] = np.abs( X[:,1] )\n",
    "    X = (X * r) + mu\n",
    "    return X\n",
    "\n",
    "def genSphericalData( d, n, mu, r ):\n",
    "    X = rnd.normal( 0, 1, (n, d) )\n",
    "    norms = lin.norm( X, axis = 1 )\n",
    "    X = X / norms[:, np.newaxis]\n",
    "    X = (X * r) + mu\n",
    "    return X"
   ]
  },
  {
   "cell_type": "code",
   "execution_count": 2,
   "metadata": {},
   "outputs": [],
   "source": [
    "d = 2\n",
    "n = 200\n",
    "\n",
    "mu1 = np.array( [0,0] )\n",
    "mu2 = np.array( [0,1] )\n",
    "mu3 = np.array( [0,0] )\n",
    "mu4 = np.array( [-3,5] )\n",
    "mu5 = np.array( [3,5] )\n",
    "\n",
    "tmp1 = genCrescentData( d, n, mu1, 1 )\n",
    "tmp2 = genCrescentData( d, n, mu2, 5, flipped = True )\n",
    "tmp3 = genSphericalData( d, n, mu3, 10 )\n",
    "tmp4 = genSphericalData( d, n, mu4, 1 )\n",
    "tmp5 = genSphericalData( d, n, mu5, 1 )\n",
    "X = np.vstack( (tmp1, tmp2, tmp3, tmp4, tmp5) )"
   ]
  },
  {
   "cell_type": "code",
   "execution_count": 3,
   "metadata": {},
   "outputs": [
    {
     "data": {
      "image/png": "[encoded data removed]",
      "text/plain": [
       "<Figure size 576x576 with 1 Axes>"
      ]
     },
     "metadata": {
      "needs_background": "light"
     },
     "output_type": "display_data"
    }
   ],
   "source": [
    "fig = getFigure( 8, 8 )\n",
    "plot2D( X, fig, size = 50, color = 'b', marker = 'o' )"
   ]
  },
  {
   "cell_type": "markdown",
   "metadata": {},
   "source": [
    "(a) Can you implement the k-means algorithm to cluster this dataset? Visualize your output. [10 points] \n",
    "\n",
    "(b) Implement k-means++ to initialize cluster centers usefully. [5 points]\n",
    "\n",
    "(c) What value of k gives you the best clustering? Are you happy with the quality of the clustering? [5 points]\n"
   ]
  },
  {
   "cell_type": "code",
   "execution_count": null,
   "metadata": {},
   "outputs": [],
   "source": [
    "X.shape"
   ]
  },
  {
   "cell_type": "markdown",
   "metadata": {},
   "source": [
    "### Convergence Criteria: \n",
    "If the Frobenius norm(As centroid of  of difference between current centroids and previous centroids is less than a certain threshold(taken to be orders of magnitude small), then we can conclude that the centroid points don't move much and the assigned points to the centroids will most likely be same with significant probability.\n",
    "\n",
    "$$ \\|current\\_centroids-previous\\_centroids \\|_F \\leq threshold $$\n",
    "\n"
   ]
  },
  {
   "cell_type": "code",
   "execution_count": 10,
   "metadata": {},
   "outputs": [],
   "source": [
    "#Vanilla K means\n",
    "def K_means(X,K,Centroids,n_iter):\n",
    "    \n",
    "    #Initializing output list and cluster dictionary\n",
    "    Output=[]\n",
    "    clusters={}\n",
    "    \n",
    "    #if centroids don't change much with the previous values we can break\n",
    "    Prev_centroids=Centroids\n",
    "    #Iterating for n iterations and \n",
    "    for itr in range(n_iter):\n",
    "        Euc_dist=np.array([]).reshape(rows,0)\n",
    "         \n",
    "        #Finding out distance of all the points from each of the centroids    \n",
    "        for k in range(K):\n",
    "            tempDist=np.sum((X-Centroids[:,k])**2,axis=1)\n",
    "            Euc_dist=np.c_[Euc_dist,tempDist]\n",
    "        \n",
    "        \n",
    "        #assign each points to the centroids with min Euclidean distance\n",
    "        C=np.argmin(Euc_dist,axis=1)+1\n",
    "    \n",
    "        flag=0\n",
    "        #Initialize all k clusters\n",
    "        for k in range(K):\n",
    "            clusters[k+1]=np.array([]).reshape(d,0)\n",
    "        \n",
    "        #Assign point to closest centroids(Forming a cluster) based on min Euclidean distance\n",
    "        for i in range(rows):\n",
    "            clusters[C[i]]=np.c_[clusters[C[i]],X[i]]\n",
    "        \n",
    "        \n",
    "        for k in range(K):\n",
    "            clusters[k+1]=clusters[k+1].T\n",
    "        \n",
    "        #Recompute centroid points by taking average of all the points assigned to a cluster\n",
    "        for k in range(K):\n",
    "            Centroids[:,k]=np.mean(clusters[k+1],axis=0)\n",
    "            if(np.isnan(np.sum(Centroids[:,k]))):\n",
    "                flag=1\n",
    "                break\n",
    "                \n",
    "        if(flag==1):\n",
    "            continue\n",
    "        \n",
    "        #Norm calculating function\n",
    "        if lin.norm( Centroids - Prev_centroids, \"fro\" ) < 1e-20:\n",
    "            Output=clusters\n",
    "            print( \"Converged within \", itr, \"\\n\")\n",
    "            break\n",
    "\n",
    "        \n",
    "        \n",
    "    Output=clusters\n",
    "    \n",
    "    return (Output,Centroids)"
   ]
  },
  {
   "cell_type": "code",
   "execution_count": 11,
   "metadata": {},
   "outputs": [
    {
     "name": "stdout",
     "output_type": "stream",
     "text": [
      "Converged within  0 \n",
      "\n"
     ]
    }
   ],
   "source": [
    "\n",
    "rows=X.shape[0]\n",
    "n_iter=500\n",
    "#Vanilla K-means\n",
    "K=5 #Intial guess on number of clusters\n",
    "\n",
    "Centroids=np.array([]).reshape(d,0)\n",
    "\n",
    "#Random Centroid Initialization\n",
    "for i in range(K):\n",
    "    \n",
    "    rand= np.random.randint(0,rows-1)\n",
    "    Centroids=np.c_[Centroids,X[rand]]\n",
    " \n",
    "\n",
    "\n",
    "\n",
    "Output,Centroids=K_means(X,K,Centroids,n_iter)\n"
   ]
  },
  {
   "cell_type": "code",
   "execution_count": 12,
   "metadata": {},
   "outputs": [
    {
     "data": {
      "image/png": "[encoded data removed]",
      "text/plain": [
       "<Figure size 432x288 with 1 Axes>"
      ]
     },
     "metadata": {
      "needs_background": "light"
     },
     "output_type": "display_data"
    }
   ],
   "source": [
    "#Plotting clusters along with all the data points\n",
    "color=['red','blue','green','cyan','magenta']\n",
    "labels=['cluster1','cluster2','cluster3','cluster4','cluster5']\n",
    "for k in range(K):\n",
    "    \n",
    "    plt.scatter(Output[k+1][:,0],Output[k+1][:,1],c=color[k],label=labels[k])\n",
    "plt.scatter(Centroids[0,:],Centroids[1,:],s=300,c='yellow',label='Centroids')\n",
    "plt.title('Vanilla Kmeans')\n",
    "plt.legend()\n",
    "plt.show()"
   ]
  },
  {
   "cell_type": "code",
   "execution_count": 13,
   "metadata": {},
   "outputs": [],
   "source": [
    "#Modified KM plus plus initialization function\n",
    "def initialize(X, k):\n",
    "    \n",
    "    #Initializing centroids and selecting first point at random\n",
    "    centroids=[]\n",
    "    centroids.append(X[np.random.randint(X.shape[0])])\n",
    "    \n",
    "    #Iterating for all k-1 centroids\n",
    "    for cent in range(k-1):\n",
    "        \n",
    "        dist=[]\n",
    "        #For all the data points in X we find it's distance with cluster k\n",
    "        for i in range(X.shape[0]):\n",
    "            pt=X[i,:]\n",
    "            \n",
    "            d=10**8\n",
    "            \n",
    "            for j in range(len(centroids)):\n",
    "                temp_dist=np.sum((pt-centroids[j])**2)\n",
    "                d=min(temp_dist,d)\n",
    "            dist.append(d)\n",
    "            \n",
    "        dist=np.array(dist)\n",
    "        probs = dist/np.sum(dist)\n",
    "\n",
    "        probs[probs < 1e-10] = 0\n",
    "        \n",
    "        #Selecting centroids uniformly at random based on probabilities, and probabilities directly proportional to distance\n",
    "        #of each point from the previously assigned centroids\n",
    "        centroid=X[np.random.choice( np.arange( X.shape[0] ), p = probs ),:]\n",
    "        centroids.append(centroid)\n",
    "        dist=[]\n",
    "      \n",
    "    #Converting list to arrays\n",
    "    centroids=np.array(centroids)\n",
    "    return centroids\n"
   ]
  },
  {
   "cell_type": "code",
   "execution_count": 14,
   "metadata": {},
   "outputs": [
    {
     "name": "stdout",
     "output_type": "stream",
     "text": [
      "Converged within  0 \n",
      "\n"
     ]
    }
   ],
   "source": [
    "#K-means++ initialization\n",
    "\n",
    "Centroids=initialize(X,K).reshape(d,K)\n",
    "\n",
    "\n",
    "#Calling K_means function with newly computed centroids\n",
    "Output,Centroids=K_means(X,K,Centroids,n_iter)\n",
    "\n",
    "    "
   ]
  },
  {
   "cell_type": "code",
   "execution_count": 15,
   "metadata": {},
   "outputs": [
    {
     "data": {
      "image/png": "[encoded data removed]",
      "text/plain": [
       "<Figure size 432x288 with 1 Axes>"
      ]
     },
     "metadata": {
      "needs_background": "light"
     },
     "output_type": "display_data"
    }
   ],
   "source": [
    "#Plotting clusters and \n",
    "color=['red','blue','green','cyan','magenta']\n",
    "labels=['cluster1','cluster2','cluster3','cluster4','cluster5']\n",
    "for k in range(K):\n",
    "    plt.scatter(Output[k+1][:,0],Output[k+1][:,1],c=color[k],label=labels[k])\n",
    "plt.scatter(Centroids[0,:],Centroids[1,:],s=300,c='yellow',label='Centroids')\n",
    "plt.title('Kmeans++')\n",
    "plt.legend()\n",
    "plt.show()"
   ]
  },
  {
   "cell_type": "code",
   "execution_count": 34,
   "metadata": {},
   "outputs": [
    {
     "name": "stdout",
     "output_type": "stream",
     "text": [
      "Converged within  0 \n",
      "\n",
      "Converged within  0 \n",
      "\n",
      "Converged within  0 \n",
      "\n",
      "Converged within  0 \n",
      "\n",
      "Converged within  0 \n",
      "\n",
      "Converged within  0 \n",
      "\n",
      "Converged within  0 \n",
      "\n",
      "Converged within  0 \n",
      "\n"
     ]
    }
   ],
   "source": [
    "WCSS=np.array([]) #Within Cluster Sum of Squares\n",
    "\n",
    "for K in range(1,9):\n",
    "    \n",
    "    Centroids=initialize(X,K).reshape(d,K)\n",
    "  \n",
    "    Output,Centroids=K_means(X,K,Centroids,n_iter)\n",
    "    \n",
    "    wcss=0\n",
    "    for k in range(K):\n",
    "        wcss+=np.sum((Output[k+1]-Centroids[:,k])**2)\n",
    "        \n",
    "    WCSS=np.append(WCSS,wcss)"
   ]
  },
  {
   "cell_type": "code",
   "execution_count": 35,
   "metadata": {},
   "outputs": [
    {
     "data": {
      "image/png": "[encoded data removed]",
      "text/plain": [
       "<Figure size 432x288 with 1 Axes>"
      ]
     },
     "metadata": {
      "needs_background": "light"
     },
     "output_type": "display_data"
    }
   ],
   "source": [
    "K_array=np.arange(1,9,1)\n",
    "plt.plot(K_array,WCSS)\n",
    "plt.xlabel('Number of Clusters')\n",
    "plt.ylabel('within-cluster sums of squares (WCSS)')\n",
    "plt.title('Elbow method to determine optimum number of clusters')\n",
    "plt.show()"
   ]
  },
  {
   "cell_type": "markdown",
   "metadata": {},
   "source": [
    "### The elbow point mostly lies within 5-6, however on some iterations we might observe a spike/break in wcss error, which probably happens when no point is assigned to a cluster or very few points are assigned to it, more the number of clusters, higher the chances of such occurence."
   ]
  },
  {
   "cell_type": "markdown",
   "metadata": {},
   "source": [
    "(d) I'm going to say that we want to be able to do better than this. So I want you to kernelize your k-means algorithm with a Gaussian kernel. Visualize the clustering output of your kernel k-means algorithm [15 points]"
   ]
  },
  {
   "cell_type": "markdown",
   "metadata": {},
   "source": [
    "### Gaussian/RBF Kernel:\n",
    "Gaussian Kernel is one of the most widely used workhorse of kernelization as it can perform operation by mapping in an infinite dimensional space, where clusters of data become highly likely, dot product of $ x_i and x_j$ in Kernel/Hilbert space is given by:-\n",
    "\n",
    "$$ k(x_i, x_j) = exp\\Big(\\frac{\\|x_i - x_j \\|^2}{2\\sigma^2} \\Big) $$\n",
    "\n",
    "### Hilbertian Distance:\n",
    "\n",
    "As this term will be often encountered in the following section we'll try have an intuitive explaination of it. It is Distance b/w 2 points in higher dimensional space(Hilbert space)."
   ]
  },
  {
   "cell_type": "code",
   "execution_count": 36,
   "metadata": {},
   "outputs": [],
   "source": [
    "\n",
    "\n",
    "# For every point, return which is the closest centroid in terms of Hilbertian distance\n",
    "def getCC( G, alphaVals ):\n",
    "   \n",
    "    k = alphaVals.shape[0]\n",
    "    n = G.shape[0]\n",
    "    # Find squared Hilbertian norms of the current centroids\n",
    "    centroidNorms = np.zeros( (k,) )\n",
    "    for i in range( k ):\n",
    "        alphaThisCluster = alphaVals[i,:]\n",
    "        \n",
    "        centroidNorms[i] = alphaThisCluster.dot( G.dot( alphaThisCluster ) )\n",
    "    # Find the Hilbertian distance of each point from each centroid\n",
    "    # Below is the implementation of ||phi(x) - phi(m_u)||^2 = phi(x).T phi(x) + phi(m_u).T phi(m_u) - 2*phi(x).Tphi(m_u)\n",
    "    D = np.zeros( (k, n) )\n",
    "    D = D + np.diag( G ) - 2 * np.matmul( alphaVals, G ) + centroidNorms[:, np.newaxis]\n",
    "    return np.argmin( D, axis = 0 )\n",
    "\n",
    "# Perform the k-means++ initialization in the higher dimensional feature space\n",
    "def KMPPIni( G, k ):\n",
    "    n = X.shape[0]\n",
    "    idx= np.zeros( (k,), dtype = int )\n",
    "    # diagonal elements are of form (x_n,x_n) or they're norms in the kernelized space\n",
    "    norms = np.diag( G )\n",
    "    # Calculate pairwise squared distance in the kernelized space b/w each pair of points\n",
    "    D = - 2 * G + norms + norms[:, np.newaxis]\n",
    "    # Choose a random data point and make it a centroid\n",
    "    idx[0] = random.randint( 0, n-1 )\n",
    "    for t in range( 1, k ):\n",
    "        # For all data points, find the squared Hilbertian distance to the closest centroid\n",
    "        dist = np.min( D[:, idx[0:t]], axis = 1 )\n",
    "        # Choose the next centroid to be one that is most likely to be far from all currently chosen centroids\n",
    "        #[Kmeans++ initialization core]\n",
    "        probs = dist/np.sum(dist)\n",
    "\n",
    "        probs[probs < 1e-10] = 0\n",
    "        idx[t] = np.random.choice( np.arange( n ), p = probs )\n",
    "\n",
    "    init = np.zeros( (k, n) )\n",
    "    init[ np.arange(k), idx ] = 1\n",
    " \n",
    "\n",
    "    return init, idx\n",
    "\n",
    "def getGramMatrix( X, Y, g = 1.0 ):\n",
    "    # Check if these are 1D datasets\n",
    "    if len( X.shape ) == 1:\n",
    "        X = X[:, np.newaxis]\n",
    "    if len( Y.shape ) == 1:\n",
    "        Y = Y[:, np.newaxis]\n",
    "   \n",
    "  \n",
    "    return np.exp( - g * euclidean_distances( X, Y ) )\n",
    "\n",
    "\n",
    "# Update every centroid to the mean of all data points assigned to that cluster\n",
    "def updateCentroids( G, z, k, prevAlphaVals ):\n",
    "    alphaVals = np.zeros( (k, G.shape[0]) )\n",
    "    for i in range( k ):\n",
    "        if z[z == i].size > 0:\n",
    "            alphaVals[i, z == i] = 1\n",
    "            # Normalize the alpha vector\n",
    "            alphaVals[i,:] = alphaVals[i,:]/np.sum( alphaVals[i,:] )\n",
    "           \n",
    "        # If some cluster is empty, return the old value of its centroid\n",
    "        else:\n",
    "            print( \"Warning: empty cluster detected\" )\n",
    "            alphaVals[i,:] = prevAlphaVals[i,:]\n",
    "    if lin.norm( alphaVals - prevAlphaVals, \"fro\" ) < 1e-15:\n",
    "        converged = True\n",
    "        print( \"Converged within \", end = '')\n",
    "    else:\n",
    "        converged = False\n",
    "    return (alphaVals, converged)\n",
    "\n",
    "# Execute the Llyod's algorithm \n",
    "def kkmeans( G, k, init, niter ):\n",
    "    alphaVals = init\n",
    "    \n",
    "    # getting closest centroid and updating the centroids acc. to the newly formed cluster till convergence\n",
    "    for t in range( niter ):\n",
    "        z = getCC( G, alphaVals )\n",
    "       \n",
    "        alphaVals, conv = updateCentroids( G, z, k, alphaVals )\n",
    "        \n",
    "        #If converged return the cluster points and centroids\n",
    "        if conv:\n",
    "            print( t, \"iterations\" )\n",
    "            return (alphaVals, z)\n",
    "    return (alphaVals, z)\n",
    "\n",
    "\n"
   ]
  },
  {
   "cell_type": "code",
   "execution_count": 56,
   "metadata": {},
   "outputs": [
    {
     "name": "stdout",
     "output_type": "stream",
     "text": [
      "Converged within 37 iterations\n"
     ]
    }
   ],
   "source": [
    "k = 5\n",
    "\n",
    "G = getGramMatrix( X, X, g = 1)\n",
    "\n",
    "init, idx = KMPPIni( G, k )\n",
    "\n",
    "(alphaVals, z) = kkmeans( G, k, init, 1000 )\n"
   ]
  },
  {
   "cell_type": "code",
   "execution_count": 57,
   "metadata": {},
   "outputs": [
    {
     "data": {
      "image/png": "[encoded data removed]",
      "text/plain": [
       "<Figure size 504x504 with 1 Axes>"
      ]
     },
     "metadata": {
      "needs_background": "light"
     },
     "output_type": "display_data"
    }
   ],
   "source": [
    "\n",
    "fig = getFigure( 7, 7 )\n",
    "col=['red','blue','green','cyan','magenta']\n",
    "for i in range(5):\n",
    "    plot2D( X[z == i], fig, size = 50, color = col[i], marker = 'o' )\n",
    "\n",
    "\n",
    "# Highlight the points used to initialize kernel k-means\n",
    "plot2D( X[idx,:] , fig, size = 200, color = 'k', marker = 'o', empty = True )\n",
    "plt.title(\"Kernelized K means with RBF kernel\")\n",
    "plt.show()"
   ]
  },
  {
   "cell_type": "markdown",
   "metadata": {},
   "source": [
    "### Conclusion:\n",
    "Kernelized K-means with modified initialization(Kmeans++) far outperforms both Kmeans and Kmeans++ in terms of clustering quality, however on every iteration Kernelized K means may not produce the same type of graph, once in a blue moon  the centroids settle well, and every object(nose, eyes, mouth) is assigned a pure colour, but on other all other iterations the clusters produced are definetly good but not the best.  "
   ]
  },
  {
   "cell_type": "markdown",
   "metadata": {},
   "source": [
    "### Q2. Expectation-Maximization"
   ]
  },
  {
   "cell_type": "markdown",
   "metadata": {},
   "source": [
    "We saw how to use EM to learn parameters for Gaussian mixture models last week. Specifically, for a GMM described by the set of parameters $\\{\\pi_k, \\mu_k, \\Sigma_k \\}_{k=1}^K$, we saw that the E-step boils down to figuring out the expected assignment of clusters based on a responsibility judgment proportional to $\\pi_k~N(\\mu_k, \\Sigma_k)$, given curent parameter estimates, followed by using GDA MLE updates assuming the current expected assignment in the M-step to update parameter values."
   ]
  },
  {
   "cell_type": "markdown",
   "metadata": {},
   "source": [
    "(a) Can you derive the E-step and M-step for an EM algorithm that would work for a Gaussian mixture model wherein the mixture weights $\\pi_k$ are known, and the covariances are restricted to be spherical, i.e. $\\Sigma_k = \\sigma^2_k I$? [20 points]"
   ]
  },
  {
   "cell_type": "markdown",
   "metadata": {},
   "source": [
    "## E and M step derivation for EM algorithm on GMM where mixture weights $ \\pi_k $ are known and covariance is spherical\n",
    "\n",
    "### GMM Derivation:\n",
    "\n",
    "Probability of observing point \"x\" is:-\n",
    "$$  p(x)= \\Sigma^K_{k=1}\\pi_k N(x| \\mu_k, \\Sigma_k) $$\n",
    "\n",
    "Let z be a latent variable associated with the generation of data, then we have:-\n",
    "$$ z \\sim Categorical(\\pi) (where\\ \\pi_k  \\geq 0, \\Sigma_k \\pi_k=1 $$\n",
    "\n",
    "The joint distribution of x and z will look like:-\n",
    "\n",
    "$$ p(x,z)=p(z)p(x | z) $$\n",
    "\n",
    "As mixture weights are known, parameters to be estimated are $ \\theta=\\{\\mu, \\sigma_k^2I\\} $\n",
    "\n",
    "Likelihood is :-\n",
    "\n",
    "$$ L(\\theta | X)= p(X| \\theta) $$\n",
    "\n",
    "$$ =\\Pi_i p(x_i | \\theta)...Assuming\\ i.i.d$$ \n",
    "\n",
    "$$ =\\Pi_i \\big(\\Sigma^K_{k=1} \\pi_k N(x_i | \\mu_k, \\sigma_k^2I) \\big) $$\n",
    "\n",
    "Taking log on both sides, we get:-\n",
    "\n",
    "$$ l(\\theta|X) = ln L(\\theta | X) $$\n",
    "\n",
    "$$   =\\Sigma_i log \\big( \\Sigma^K_{k=1} \\pi_k N(x_i | \\mu_k, \\sigma_k^2I)  $$\n",
    "\n",
    "We'll require a bit of Jensen's Inequality, which is:-\n",
    "\n",
    "$$ log\\big(\\Sigma^K_{k=1}a_k x_k \\big) \\geq \\Sigma^K_{k=1} a_k log(x_k) $$\n",
    "\n",
    "where $ a_k $ is weight of point x_k\n",
    "\n",
    "We'll proceed by defining a lower bound on estimation of log likelihood as follows:-\n",
    "\n",
    "$$ log(p(x_i | \\theta))=log \\big(\\Sigma^K_{k=1} p(x_i |z_i=k,\\theta)p(z_i =k |\\theta)\\big)$$\n",
    "\n",
    " $$      =log \\big( \\Sigma^{K}_{k=1}p(x_i,z_i=k |\\theta) \\big) $$\n",
    "\n",
    " $$       =log \\big( \\Sigma^{K}_{k=1} \\frac{E[z_{nk}]}{E[z_{nk}]}p(x_i,z_i=k |\\theta) \\big)$$\n",
    "\n",
    " $$       =log \\big( \\Sigma^{K}_{k=1} E[z_{nk}]\\frac{p(x_i,z_i=k|\\theta}{E[z_{nk}]} ) \\big)  $$\n",
    "\n",
    "On applying Jensen's Inequality, lowerbound:-\n",
    "\n",
    "$$ log\\big( \\Sigma^{K}_{k=1} E[z_{nk}] \\frac{p(x_i,z_i=k | \\theta)}{E[z_{nk}]} \\geq \\Sigma^K_{k=1} E[z_{nk}] log \\big( \\frac{p(x_i, z_i=k | \\theta)}{E[z_{nk}]} \\big) \\big) $$\n",
    "\n",
    "$$ =l_i(\\theta, E[z_n]) $$\n",
    "\n",
    "\n",
    "### E Step\n",
    "\n",
    "$$ E[z_{nk}]= p(z_n=k | x_n,\\pi, \\mu, \\sigma^2I) $$\n",
    "\n",
    "Using Bayes theorem to find the above conditional probability we get:-\n",
    "\n",
    "$$ E[z_{nk}]=p(z=k|x)=\\frac{p(z=k)p(x|z=k)}{p(x)} $$\n",
    "\n",
    "$$ =p(z=k|x)=\\frac{p(z=k)p(x|z=k)}{\\Sigma^K_{k=1}p(z=k)p(x|z=k)} $$\n",
    "\n",
    "$$ =\\frac{\\pi_k N(x|\\mu_k,\\sigma_k^2I)}{\\Sigma^K_{k=1}\\pi_k N(x|\\mu_k,\\sigma_k^2I)} $$\n",
    "\n",
    "### M Step\n",
    "\n",
    "We try to maximize the lower bound of log likelihood so that it inches towards the actual value\n",
    "\n",
    "$$ L(\\theta, E[z_n])= \\Sigma_i \\Sigma_{k=1}^K E[z_{nk}] log \\big(\\frac{p(x_i,z_i=k | \\theta)}{E[z_{nk}]} \\big) $$\n",
    "\n",
    "$$  = \\Sigma_i \\Sigma_{k=1}^K E[z_{nk}] log (p(x_i,z_i=k | \\theta))- \\Sigma_i \\Sigma_{k=1}^{K}E[z_{nk}]log(E[z_{nk}]) \\big) $$\n",
    "\n",
    "As evident from the above expression, second term isn't dependent on $\\theta$\n",
    "\n",
    "$$ L(\\theta, E[z_n])=\\Sigma_{E[nk]}log P(X, Z | \\theta)....(1)$$\n",
    "\n",
    "For maximization of (1), we need to find partial derivatives w.r.t $ \\mu,\\sigma $, and set it to 0\n",
    "\n",
    "$$ max_\\theta L(\\theta, E[z_{nk}])= \\nabla_\\theta L(\\theta, E[z_{nk}])=0 $$\n",
    "\n",
    "$$ =\\big{\\{}\\frac{d L(\\theta, E[z_{nk}])}{d \\sigma_k}=0 ; \\frac{d L(\\theta, E[z_{nk}])}{d mu_k}=0 \\big{\\}} $$\n",
    "\n",
    "Let $\\Sigma_k=\\sigma^2_k I$ and let's compute the optimal mean vector $\\bar{\\mu_k}$\n",
    "$$ \\frac{dL(\\theta, E[z_{nk}]))}{d\\mu_{k}} =0$$\n",
    "\n",
    "$$ \\frac{d}{d\\mu_k}\\big(\\Sigma_i \\Sigma^K_{k=1} E[z_{nk}] log (\\pi_k N(x_i| \\mu_k, \\Sigma_k)) \\big)=0 $$\n",
    "\n",
    "$$ \\frac{d}{d\\mu_k}\\big(\\Sigma_i E[z_{nk}] log(x_k) + \\Sigma_i E[z_{nk}] log (N(x_i|\\mu_k,\\Sigma_k)) \\big)=0 $$\n",
    "\n",
    "$$ \\frac{d}{d\\mu_k}\\big(\\Sigma_i E[z_{nk}] log \\big(\\frac{1}{(2\\pi)^{N/2}|\\Sigma_k|^{1/2}}exp\\big(-\\frac{1}{2}(x_i-\\mu_k)^T \\Sigma^{-1}_k(x_i - \\mu_k) \\big) \\big) \\big)=0 $$\n",
    "\n",
    "$$ \\frac{d}{d\\mu_k}\\big(\\Sigma_i E[z_{nk}] log \\big(\\frac{1}{(2\\pi)^{N/2}|\\Sigma_k|^{1/2}} + \\Sigma_i E[z_{nk}]log\\big( exp\\big(-\\frac{1}{2}(x_i-\\mu_k)^T \\Sigma^{-1}_k(x_i - \\mu_k) \\big) \\big) \\big)=0.....(2) $$\n",
    "\n",
    "For any symmetric matrix W, any vector x and any scalar s we can write:\n",
    "\n",
    "$$ \\frac{d}{dx}(x-s)^T W (x-s)= -2W(x-s) $$\n",
    "\n",
    "We'll use the formula above for finding derivative of (2) as follows :-\n",
    "$$ \\Sigma_i E[z_{nk}] \\big( -\\frac{1}{2}(-2\\Sigma_k^{-1}(x_k - \\mu_k))\\big)=0 $$\n",
    "\n",
    "$$ \\Sigma_i E[z_{nk}] \\Sigma_k^{-1}(x_k - \\mu_k)=0 $$\n",
    "\n",
    "$$ \\Sigma_i E[z_{nk}]\\Sigma^{-1}_k x_i - \\Sigma_i E[z_{nk}]\\Sigma_k^{-1}\\mu_k=0 $$\n",
    "\n",
    "$$ \\mu_k= \\frac{\\Sigma_i E[z_{nk}]\\Sigma^{-1}_k x_i}{\\Sigma_i E[z_{nk}]\\Sigma^{-1}} $$\n",
    "\n",
    "$$ \\mu_k= \\frac{\\Sigma_i E[z_{nk}] x_i}{\\Sigma_i E[z_{nk}]} $$\n",
    "\n",
    "For computing the Covariance matrix $ \\Sigma_k=\\sigma_k^2 I $, we just need to differentiate w.r.t $\\sigma_k$\n",
    "\n",
    "$$ \\frac{dL(\\theta,E[z_{nk}])}{d\\sigma_k}=0 $$\n",
    "\n",
    "$$ \\frac{d}{d\\sigma_k}\\big(\\Sigma_i \\Sigma^K_{k=1} E[z_{nk}]log(\\pi_k, N(x_i,\\mu_k,\\sigma_k^2I))\\big)=0 $$\n",
    "\n",
    "$$ \\frac{d}{d\\sigma_k}\\big(\\Sigma_i \\Sigma^K_{k=1} E[z_{nk}]log(\\pi_k  N(x_i,\\mu_k,\\sigma_k^2I))\\big)=0 $$\n",
    "\n",
    "$$ \\frac{d}{d\\sigma_k}\\big(\\Sigma_i E[z_{nk}]log(\\pi_k, N(x_i,\\mu_k,\\sigma_k^2I))\\big) =0$$\n",
    "\n",
    "$$ \\frac{d}{d\\sigma_k}\\big(\\Sigma_i E[z_{nk}]\\big(log\\Big(\\frac{1}{(2\\pi)^{N/2}|\\sigma^2_k I|^{1/2}}exp\\big(-\\frac{1}{2}(x_i - \\mu_k)^T \\sigma^{-2}_kI(x_i-\\mu_k) \\Big)  \\big)\\big) \\big) =0 $$\n",
    "\n",
    "$$ \\frac{d}{d\\sigma_k}\\Big(\\Sigma_i E[z_{nk}]\\Big(log\\Big(log\\Big(\\frac{1}{(2\\pi)^{N/2}}\\Big) +\\frac{1}{2}log\\Big(\\frac{1}{|\\sigma^2_kI|}\\Big)+ log\\Big(exp\\Big(-\\frac{1}{2}(x_i - \\mu_k)^T \\sigma^{-2}_kI (x_k -mu_k) \\Big) \\Big) \\Big) \\Big) \\Big) =0 $$\n",
    "\n",
    "$$ \\frac{d}{d\\sigma_k}\\Big( \\Sigma_i E[z_{nk}] \\Big(\\frac{1}{2} log \\Big(\\frac{1}{|\\sigma_k^2I|}\\Big) -\\frac{1}{2}(x_i - \\mu_k)^T \\sigma^{-2}_kI (x_i -\\mu_k) \\Big) \\Big)=0 $$\n",
    "\n",
    "Let D=dimension of Covariance matrix\n",
    "$$ \\frac{d}{d\\sigma_k}\\Big( \\Sigma_i E[z_{nk}] \\Big(\\frac{1}{2} log \\Big(\\sigma_k^{-2D}\\Big) -\\frac{1}{2}\\sigma^{2}_k\\|x_i -\\mu_k \\|^2_2\\Big) \\Big)=0 $$\n",
    "\n",
    "$$ \\frac{d}{d\\sigma_k}\\Big( \\Sigma_i E[z_{nk}] \\Big(-Dlog(\\sigma_k) - \\frac{1}{2}\\sigma^2_k\\|x_i - \\mu_k \\|^2_3 \\Big) \\Big)=0 $$\n",
    "\n",
    "$$ \\Sigma_i E[z_{nk}] \\Big(-\\frac{D}{\\sigma_k} + \\frac{\\|x_i -\\mu\\|^2}{\\sigma_k^3} \\Big)=0 $$\n",
    "\n",
    "$$ D\\Sigma_i E[z_{nk}]= \\Sigma_i E[z_{nk}] \\Big(\\frac{\\|x_i - \\mu_k \\|^2_2}{\\sigma^2_k} \\Big) $$\n",
    "\n",
    "$$ \\bar{\\sigma^2_k}=  \\frac{\\Sigma_i E[z_{nk}]\\|x_i-\\mu_k \\|^2_2}{D\\Sigma_i E[z_{nk}]} $$\n",
    "\n",
    "$$ Optimal\\ Cov\\ Matrix=\\bar{\\Sigma_k}=\\bar{\\sigma^2_k} *I $$\n"
   ]
  },
  {
   "cell_type": "markdown",
   "metadata": {},
   "source": [
    "(b) Implement this algorithm and show that it works on synthetic data with 3 clusters. If you are unable to derive the EM algorithm for part (a), implement the EM algorithm I showed in the class slides for the standard GMM (5 point penalty for taking this option) [15 points]. "
   ]
  },
  {
   "cell_type": "code",
   "execution_count": 58,
   "metadata": {},
   "outputs": [],
   "source": [
    "#Helper function\n",
    "def log_sum_exp(Z):\n",
    "    \n",
    "    return np.max(Z) + np.log(np.sum(np.exp(Z - np.max(Z))))\n",
    "\n",
    "#Computes the loglikelihood of the data\n",
    "def loglikelihood(data, weights, means, covs):\n",
    "   \n",
    "    num_clusters = len(means)\n",
    "    num_dim = len(data[0])\n",
    "    \n",
    "    ll = 0\n",
    "    for d in data:\n",
    "        \n",
    "        Z = np.zeros(num_clusters)\n",
    "        for k in range(num_clusters):\n",
    "            \n",
    "            # Compute (x-mu)^T * Sigma^{-1} * (x-mu)\n",
    "            delta = np.array(d) - means[k]\n",
    "            exponent_term = np.dot(delta.T, np.dot(np.linalg.inv(covs[k]), delta))\n",
    "            \n",
    "            # Compute loglikelihood contribution for this data point and this cluster\n",
    "            Z[k] += np.log(weights[k])\n",
    "            Z[k] -= 1/2. * (num_dim * np.log(2*np.pi) + np.log(np.linalg.det(covs[k])) + exponent_term)\n",
    "            \n",
    "        # Increment loglikelihood contribution of this data point across all clusters\n",
    "        ll += log_sum_exp(Z)\n",
    "        \n",
    "    return ll"
   ]
  },
  {
   "cell_type": "code",
   "execution_count": 59,
   "metadata": {},
   "outputs": [],
   "source": [
    "def E_z_Upd(data, weights, means, covariances):\n",
    "    #Compute\n",
    "    num_data = len(data)\n",
    "    num_clusters = len(means)\n",
    "    resp = np.zeros((num_data, num_clusters))\n",
    "    \n",
    "    # Update resp matrix so that resp[i,k] is the responsibility of cluster k for data point i.\n",
    "    \n",
    "    for i in range(num_data):\n",
    "        for k in range(num_clusters):\n",
    "            #Calculating Expectation\n",
    "            resp[i, k] = weights[k]*multivariate_normal.pdf(data[i], mean=means[k], cov=covariances[k])\n",
    "    \n",
    "    # Add up expectation over each data point and normalize\n",
    "    row_sums = resp.sum(axis=1)[:, np.newaxis]\n",
    "    resp = resp / row_sums\n",
    "    \n",
    "    return resp\n",
    "\n",
    "def soft_cnts_upd(resp):\n",
    "    # Computing the total responsibility assigned to each cluster, which will be useful when \n",
    "    # implementing M-steps below. \n",
    "    counts = np.sum(resp, axis=0)\n",
    "    return counts"
   ]
  },
  {
   "cell_type": "code",
   "execution_count": 60,
   "metadata": {},
   "outputs": [],
   "source": [
    "def means_upd(data, resp, counts):\n",
    "    num_clusters = len(counts)\n",
    "    num_data = len(data)\n",
    "    means = [np.zeros(len(data[0]))] * num_clusters\n",
    "    \n",
    "    for k in range(num_clusters):\n",
    "        # Update means for cluster k using the M-step update rule for the mean variables.\n",
    "        # This will assign the variable means[k] to be our estimate for mu_hat\n",
    "        weighted_sum = 0.\n",
    "        for i in range(num_data):\n",
    "            \n",
    "            weighted_sum += data[i] * resp[i][k]\n",
    "        \n",
    "        means[k] = weighted_sum / counts[k]\n",
    "\n",
    "    return means"
   ]
  },
  {
   "cell_type": "code",
   "execution_count": 61,
   "metadata": {},
   "outputs": [],
   "source": [
    "def spherical_cov_Upd(data, resp, counts, means):\n",
    "    num_clusters = len(counts)\n",
    "    num_dim = len(data[0])\n",
    "    num_data = len(data)\n",
    "    covariances = [np.zeros((num_dim,num_dim))] * num_clusters\n",
    "    \n",
    "    for k in range(num_clusters):\n",
    "        # Update covariances for cluster k using the M-step update rule for covariance variables.\n",
    "        # This will assign the variable covariances[k] to be the estimate for Sigma_hat\n",
    "        weighted_sum = np.zeros((num_dim, num_dim))\n",
    "        for i in range(num_data):\n",
    "           \n",
    "            weighted_sum += resp[i][k]*np.dot(data[i] - means[k], data[i] - means[k])\n",
    "       \n",
    "        \n",
    "        \n",
    "        covariances[k] = (weighted_sum*np.identity(num_dim)) / counts[k]\n",
    "\n",
    "    return covariances"
   ]
  },
  {
   "cell_type": "code",
   "execution_count": 62,
   "metadata": {},
   "outputs": [],
   "source": [
    "def EM_step(data, init_means, init_covariances, init_weights, maxiter=1000, thresh=1e-10):\n",
    "    \n",
    "    # Make copies of initial parameters, which we will update during each iteration\n",
    "    means = init_means[:]\n",
    "    covariances = init_covariances[:]\n",
    "    weights = init_weights[:]\n",
    "    \n",
    "    # Infer dimensions of dataset and the number of clusters\n",
    "    num_data = len(data)\n",
    "    num_dim = len(data[0])\n",
    "    num_clusters = len(means)\n",
    "    \n",
    "    # Initialize some useful variables\n",
    "    resp = np.zeros((num_data, num_clusters))\n",
    "    ll = loglikelihood(data, weights, means, covariances)\n",
    "    ll_trace = [ll]\n",
    "    \n",
    "    for it in range(maxiter):\n",
    "        if it % 5 == 0:\n",
    "            print(\"Iteration %s\" % it)\n",
    "        \n",
    "        # E-step: compute responsibilities/expected value\n",
    "        resp = E_z_Upd(data, weights, means, covariances)\n",
    "\n",
    "        # M-step\n",
    "        # Compute the total responsibility assigned to each cluster, which will be useful when \n",
    "        # implementing M-steps below. \n",
    "        counts = soft_cnts_upd(resp)\n",
    "        \n",
    "       \n",
    "        \n",
    "\n",
    "        \n",
    "        # Update means for cluster k using the M-step update rule for the mean variables.\n",
    "        # This will assign the variable means[k] to be our estimate for mu_hat\n",
    "        \n",
    "        means = means_upd(data, resp, counts)\n",
    "        \n",
    "        # Update covariances for cluster k using the M-step update rule for covariance variables.\n",
    "        # This will assign the variable covariances[k] to be the estimate for sigma_hat\n",
    "      \n",
    "        covariances = spherical_cov_Upd(data, resp, counts, means)\n",
    "        \n",
    "        # Compute the loglikelihood at this iteration\n",
    "        \n",
    "        ll_latest = loglikelihood(data, weights, means, covariances)\n",
    "        ll_trace.append(ll_latest)\n",
    "        \n",
    "        # Check for convergence in log-likelihood by comparing current log-likelihood with the previous value\n",
    "        if (ll_latest - ll) < thresh and ll_latest > -np.inf:\n",
    "            \n",
    "            break\n",
    "        ll = ll_latest\n",
    "    \n",
    "    if it % 5 != 0:\n",
    "        print(\"Iteration %s\" % it)\n",
    "    \n",
    "    out = {'weights': weights, 'means': means, 'covs': covariances, 'loglik': ll_trace, 'resp': resp}\n",
    "\n",
    "    return out"
   ]
  },
  {
   "cell_type": "code",
   "execution_count": 63,
   "metadata": {},
   "outputs": [],
   "source": [
    "def generate_MoG_data(num_data, means, covariances, weights):\n",
    "    #Creates a list of spherical gaussian data points with 3 different clusters\n",
    "    num_clusters = len(weights)\n",
    "    data = []\n",
    "    for i in range(num_data):\n",
    "        #  Use np.random.choice and weights to pick a cluster id greater than or equal to 0 and less than num_clusters.\n",
    "        k = np.random.choice(len(weights), 1, p=weights)[0]\n",
    "\n",
    "        # Use np.random.multivariate_normal to create data from this cluster\n",
    "        x = np.random.multivariate_normal(means[k], covariances[k])\n",
    "\n",
    "        data.append(x)\n",
    "    return data\n",
    "\n",
    "\n",
    "\n",
    "# Initial Model parameters\n",
    "init_means = [\n",
    "    [10, 0], # mean of cluster 1\n",
    "    [1, 1], # mean of cluster 2\n",
    "    [0, 10]  # mean of cluster 3\n",
    "]\n",
    "init_covariances = [\n",
    "    [[.5, 0.], [0, .5]], # covariance of cluster 1\n",
    "    [[.9, 0.], [0, .9]], # covariance of cluster 2\n",
    "    [[.5, 0.], [0, .5]]  # covariance of cluster 3\n",
    "]\n",
    "init_weights = [1/4, 1/2, 1/4]  # weights of each cluster\n",
    "\n",
    "# Generate data\n",
    "np.random.seed(4)\n",
    "data = generate_MoG_data(100, init_means, init_covariances, init_weights)"
   ]
  },
  {
   "cell_type": "code",
   "execution_count": 64,
   "metadata": {},
   "outputs": [
    {
     "data": {
      "image/png": "[encoded data removed]",
      "text/plain": [
       "<Figure size 432x288 with 1 Axes>"
      ]
     },
     "metadata": {
      "needs_background": "light"
     },
     "output_type": "display_data"
    }
   ],
   "source": [
    "plt.figure()\n",
    "d = np.vstack(data)\n",
    "plt.plot(d[:,0], d[:,1],'ko')\n",
    "plt.rcParams.update({'font.size':16})\n",
    "plt.tight_layout()"
   ]
  },
  {
   "cell_type": "code",
   "execution_count": 65,
   "metadata": {},
   "outputs": [
    {
     "name": "stdout",
     "output_type": "stream",
     "text": [
      "Iteration 0\n",
      "Iteration 5\n",
      "Iteration 9\n"
     ]
    }
   ],
   "source": [
    "np.random.seed(4)\n",
    "\n",
    "# Initialization of parameters\n",
    "chosen = np.random.choice(len(data), 3, replace=False)\n",
    "initial_means = [data[x] for x in chosen]\n",
    "initial_covs = [[[1,0],[0,1]]] * 3\n",
    "initial_weights = [1/3.] * 3\n",
    "\n",
    "# Run EM \n",
    "results = EM_step(data, initial_means, initial_covs, initial_weights)"
   ]
  },
  {
   "cell_type": "code",
   "execution_count": null,
   "metadata": {},
   "outputs": [],
   "source": [
    "results['means']\n"
   ]
  },
  {
   "cell_type": "code",
   "execution_count": 66,
   "metadata": {},
   "outputs": [],
   "source": [
    "#Contour plot function using meshgrid \n",
    "def plot_contours(data, means, covs, title):\n",
    "    plt.figure()\n",
    "    plt.plot([x[0] for x in data], [y[1] for y in data],'ko') # data\n",
    "\n",
    "    delta = 0.025\n",
    "    k = len(means)\n",
    "    x = np.arange(-2.0, 20.0, delta)\n",
    "    y = np.arange(-2.0, 20.0, delta)\n",
    "    X, Y = np.meshgrid(x, y)\n",
    "    col = ['green', 'red', 'indigo']\n",
    "    for i in range(k):\n",
    "        mean = means[i]\n",
    "        cov = covs[i]\n",
    "        sigmax = np.sqrt(cov[0][0])\n",
    "        sigmay = np.sqrt(cov[1][1])\n",
    "        sigmaxy = cov[0][1]/(sigmax*sigmay)\n",
    "        \n",
    "        rv = multivariate_normal([mean[0], mean[1]], [[sigmax, sigmaxy], [sigmaxy, sigmay]])\n",
    "        Z = rv.pdf(np.dstack((X, Y)))\n",
    "        plt.contour(X, Y, Z, colors = col[i])\n",
    "        plt.title(title)\n",
    "    plt.rcParams.update({'font.size':16})\n",
    "    plt.tight_layout()"
   ]
  },
  {
   "cell_type": "code",
   "execution_count": 67,
   "metadata": {},
   "outputs": [
    {
     "data": {
      "image/png": "[encoded data removed]",
      "text/plain": [
       "<Figure size 432x288 with 1 Axes>"
      ]
     },
     "metadata": {
      "needs_background": "light"
     },
     "output_type": "display_data"
    }
   ],
   "source": [
    "# Parameters after initialization\n",
    "plot_contours(data, initial_means, initial_covs, 'Initial clusters')"
   ]
  },
  {
   "cell_type": "code",
   "execution_count": 69,
   "metadata": {},
   "outputs": [
    {
     "name": "stdout",
     "output_type": "stream",
     "text": [
      "Iteration 0\n",
      "Iteration 5\n",
      "Iteration 9\n"
     ]
    },
    {
     "data": {
      "image/png": "[encoded data removed]",
      "text/plain": [
       "<Figure size 432x288 with 1 Axes>"
      ]
     },
     "metadata": {
      "needs_background": "light"
     },
     "output_type": "display_data"
    }
   ],
   "source": [
    "# Parameters after running EM to convergence\n",
    "results = EM_step(data, initial_means, initial_covs, initial_weights)\n",
    "plot_contours(data, results['means'], results['covs'], 'Final clusters')"
   ]
  },
  {
   "cell_type": "markdown",
   "metadata": {},
   "source": [
    "### Conclusion:\n",
    "\n",
    "As evident from the 2 plots displayed above, we can observe how the Initial clusters starts with a particular initialization which in no way represents the Gaussians from which the data is generated, but the algorithm after converging improves the approximation drastically and the contours/clusters is finally able to approximate the data/the distribution from which it is generated.\n"
   ]
  },
  {
   "cell_type": "code",
   "execution_count": null,
   "metadata": {},
   "outputs": [],
   "source": []
  }
 ],
 "metadata": {
  "kernelspec": {
   "display_name": "Python 3 (ipykernel)",
   "language": "python",
   "name": "python3"
  },
  "language_info": {
   "codemirror_mode": {
    "name": "ipython",
    "version": 3
   },
   "file_extension": ".py",
   "mimetype": "text/x-python",
   "name": "python",
   "nbconvert_exporter": "python",
   "pygments_lexer": "ipython3",
   "version": "3.9.6"
  }
 },
 "nbformat": 4,
 "nbformat_minor": 4
}
